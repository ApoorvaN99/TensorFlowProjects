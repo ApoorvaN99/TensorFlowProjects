{
  "nbformat": 4,
  "nbformat_minor": 0,
  "metadata": {
    "colab": {
      "name": "HelloWorld.ipynb",
      "provenance": [],
      "authorship_tag": "ABX9TyNQnpOTr5xkRTPVDwAyNG+t",
      "include_colab_link": true
    },
    "kernelspec": {
      "name": "python3",
      "display_name": "Python 3"
    }
  },
  "cells": [
    {
      "cell_type": "markdown",
      "metadata": {
        "id": "view-in-github",
        "colab_type": "text"
      },
      "source": [
        "<a href=\"https://colab.research.google.com/github/ApoorvaN99/TensorFlowProjects/blob/master/HelloWorld.ipynb\" target=\"_parent\"><img src=\"https://colab.research.google.com/assets/colab-badge.svg\" alt=\"Open In Colab\"/></a>"
      ]
    },
    {
      "cell_type": "markdown",
      "metadata": {
        "id": "hgHPOytKAuIw",
        "colab_type": "text"
      },
      "source": [
        "this is my first colab.\n",
        "this is a simple first print pgm."
      ]
    },
    {
      "cell_type": "code",
      "metadata": {
        "id": "wzC2sEjQ-wgV",
        "colab_type": "code",
        "colab": {
          "base_uri": "https://localhost:8080/",
          "height": 34
        },
        "outputId": "703900d1-1aa4-4800-ef2e-b6181537d961"
      },
      "source": [
        "print(\"hello world!\")"
      ],
      "execution_count": 2,
      "outputs": [
        {
          "output_type": "stream",
          "text": [
            "hello world!\n"
          ],
          "name": "stdout"
        }
      ]
    },
    {
      "cell_type": "markdown",
      "metadata": {
        "id": "iA0XSyt4A5g_",
        "colab_type": "text"
      },
      "source": [
        "now, we perform arithmetic operations."
      ]
    },
    {
      "cell_type": "code",
      "metadata": {
        "id": "JTxc5ispA_D-",
        "colab_type": "code",
        "colab": {
          "base_uri": "https://localhost:8080/",
          "height": 34
        },
        "outputId": "e72b3de1-979f-4946-8ca9-7ed766f361a8"
      },
      "source": [
        "a=10\n",
        "b=20\n",
        "print(a+b)"
      ],
      "execution_count": 1,
      "outputs": [
        {
          "output_type": "stream",
          "text": [
            "30\n"
          ],
          "name": "stdout"
        }
      ]
    }
  ]
}